{
 "cells": [
  {
   "cell_type": "code",
   "execution_count": 3,
   "id": "03957525",
   "metadata": {},
   "outputs": [
    {
     "name": "stdout",
     "output_type": "stream",
     "text": [
      "Sequence: DFPIANGER\n",
      "Prefix: DFPI\n",
      "Suffix: ANGER\n",
      "concatenated: DFPIANGERDFPIANGER\n",
      "Monoisotopic mass of peptide [M] is 1017.4879641373001\n",
      "Monoisotopic mass of peptide precursor [M+2H]2+ is 1019.5025170708419\n",
      "Monoisotopic m/z of [M+2H]2 is 509.75125853542096\n"
     ]
    }
   ],
   "source": [
    "#Amino Acid Sequences\n",
    "from pyopenms import*\n",
    "seq=AASequence.fromString(\"DFPIANGER\")\n",
    "prefix=seq.getPrefix(4)\n",
    "suffix=seq.getSuffix(5)\n",
    "concat=seq+seq\n",
    "print(\"Sequence:\",seq)\n",
    "print(\"Prefix:\",prefix)\n",
    "print(\"Suffix:\",suffix)\n",
    "print(\"concatenated:\",concat)\n",
    "\n",
    "mfull=seq.getMonoWeight()\n",
    "mprecursor=seq.getMonoWeight(Residue.ResidueType.Full,2)\n",
    "\n",
    "mz=seq.getMonoWeight(Residue.ResidueType.Full,2)\n",
    "mz=seq.getMZ(2)\n",
    "\n",
    "print(\"Monoisotopic mass of peptide [M] is\",mfull)\n",
    "print(\"Monoisotopic mass of peptide precursor [M+2H]2+ is\",mprecursor)\n",
    "print(\"Monoisotopic m/z of [M+2H]2 is\",mz)"
   ]
  },
  {
   "cell_type": "code",
   "execution_count": 5,
   "id": "9081f9e2",
   "metadata": {},
   "outputs": [
    {
     "name": "stdout",
     "output_type": "stream",
     "text": [
      "The peptide DFPIANGER conists of the following amino acids:\n",
      "Aspartate : 133.0375092233\n",
      "Phenylalanine : 165.0789793509\n",
      "Proline : 115.06332928709999\n",
      "Isoleucine : 131.0946294147\n",
      "Alanine : 89.0476792233\n",
      "Asparagine : 132.0534932552\n",
      "Glycine : 75.0320291595\n",
      "Glutamate : 147.0531592871\n",
      "Arginine : 174.1116764466\n"
     ]
    }
   ],
   "source": [
    "seq=AASequence.fromString(\"DFPIANGER\")\n",
    "print(\"The peptide\",str(seq),\"conists of the following amino acids:\")\n",
    "for aa in seq:\n",
    "    print(aa.getName(),\":\",aa.getMonoWeight())"
   ]
  },
  {
   "cell_type": "code",
   "execution_count": 7,
   "id": "85611300",
   "metadata": {},
   "outputs": [
    {
     "name": "stdout",
     "output_type": "stream",
     "text": [
      "N-Term Modification: Pyro-carbamidomethyl (N-term C)\n",
      "Cysteine : 121.01974995329999\n",
      "Proline : 115.06332928709999\n",
      "Lysine : 146.1055284466\n",
      "Cysteine : 121.01974995329999\n",
      "Lysine : 154.1197284466 : Label:13C(6)15N(2)\n",
      "Cysteine : 121.01974995329999\n",
      "Arginine : 174.1116764466\n"
     ]
    }
   ],
   "source": [
    "seq=AASequence.fromString(\"C[143]PKCK(Label:13C(6)15N(2))CR\")\n",
    "if seq.hasNTerminalModification():\n",
    "    print(\"N-Term Modification:\",seq.getNTerminalModification().getFullId())\n",
    "if seq.hasCTerminalModification():\n",
    "    print(\"C-Term Modification:\",seq.getCTerminalModification().getFullId())\n",
    "for aa in seq:\n",
    "    if(aa.isModified()):\n",
    "        print(aa.getName(),\":\",aa.getMonoWeight(),\":\",aa.getModificationName())\n",
    "    else:\n",
    "        print(aa.getName(),\":\",aa.getMonoWeight())"
   ]
  },
  {
   "cell_type": "code",
   "execution_count": 8,
   "id": "794c5db2",
   "metadata": {},
   "outputs": [
    {
     "name": "stdout",
     "output_type": "stream",
     "text": [
      "Peptide DFPIANGER has molecular formula C44H67N13O15\n"
     ]
    }
   ],
   "source": [
    "#Molecular formula\n",
    "seq=AASequence.fromString(\"DFPIANGER\")\n",
    "seq_formula=seq.getFormula()\n",
    "print(\"Peptide\",seq,\"has molecular formula\",seq_formula)"
   ]
  },
  {
   "cell_type": "code",
   "execution_count": 9,
   "id": "1cb9d09d",
   "metadata": {},
   "outputs": [
    {
     "name": "stdout",
     "output_type": "stream",
     "text": [
      "Isotope 1017.4879641373 has abundance 56.8165123462677 %\n",
      "Isotope 1018.4913189751 has abundance 30.52913546562195 %\n",
      "Isotope 1019.4946738128999 has abundance 9.802106022834778 %\n",
      "Isotope 1020.4980286507 has abundance 2.3292066529393196 %\n",
      "Isotope 1021.5013834885 has abundance 0.4492596257477999 %\n",
      "Isotope 1022.5047383263 has abundance 0.07378293666988611 %\n"
     ]
    }
   ],
   "source": [
    "#Isotope patterns\n",
    "coarse_isotopes=seq_formula.getIsotopeDistribution(CoarseIsotopePatternGenerator(6))\n",
    "for iso in coarse_isotopes.getContainer():\n",
    "    print(\"Isotope\",iso.getMZ(),\"has abundance\",iso.getIntensity()*100,\"%\")"
   ]
  },
  {
   "cell_type": "code",
   "execution_count": 12,
   "id": "6d9c0251",
   "metadata": {},
   "outputs": [
    {
     "name": "stdout",
     "output_type": "stream",
     "text": [
      "Isotope 1017.4879641373001 has abundance 56.80969953536987 %\n",
      "Isotope 1018.4849991373001 has abundance 2.7278145775198936 %\n",
      "Isotope 1018.4913191373001 has abundance 27.035287022590637 %\n",
      "Isotope 1018.4921811373001 has abundance 0.3246041014790535 %\n",
      "Isotope 1018.4942408854 has abundance 0.4377691075205803 %\n",
      "Isotope 1019.4883541373001 has abundance 1.2981452979147434 %\n",
      "Isotope 1019.4922181373001 has abundance 1.7511537298560143 %\n",
      "Isotope 1019.4946741373 has abundance 6.286735832691193 %\n",
      "Isotope 1019.4975958854001 has abundance 0.2083308296278119 %\n",
      "Isotope 1020.4917091373001 has abundance 0.3018683288246393 %\n",
      "Isotope 1020.4955731373002 has abundance 0.833360105752945 %\n",
      "Isotope 1020.4980291373 has abundance 0.9519387967884541 %\n",
      "Isotope 1021.4989281373 has abundance 0.1937880413606763 %\n"
     ]
    }
   ],
   "source": [
    "fine_isotopes=seq_formula.getIsotopeDistribution(FineIsotopePatternGenerator(0.01))\n",
    "for iso in fine_isotopes.getContainer():\n",
    "    print(\"Isotope\",iso.getMZ(),\"has abundance\",iso.getIntensity()*100,\"%\")"
   ]
  },
  {
   "cell_type": "code",
   "execution_count": 13,
   "id": "31eef2bd",
   "metadata": {},
   "outputs": [
    {
     "data": {
      "image/png": "[encoded data removed]",
      "text/plain": [
       "<Figure size 720x504 with 2 Axes>"
      ]
     },
     "metadata": {
      "needs_background": "light"
     },
     "output_type": "display_data"
    }
   ],
   "source": [
    "import math\n",
    "from matplotlib import pyplot as plt\n",
    "\n",
    "def plotIsotopeDistribution(isotope_distribution,title=\"Isotope distribution\"):\n",
    "    plt.title(title)\n",
    "    distribution={\"mass\":[], \"abundance\":[]}\n",
    "    for iso in isotope_distribution.getContainer():\n",
    "        distribution[\"mass\"].append(iso.getMZ())\n",
    "        distribution[\"abundance\"].append(iso.getIntensity()*100)\n",
    "    bars=plt.bar(distribution[\"mass\"],distribution[\"abundance\"],width=0.01,snap=False)\n",
    "    plt.ylim([0,110])\n",
    "    plt.xticks(range(math.ceil(distribution[\"mass\"][0])-2,\n",
    "                     math.ceil(distribution[\"mass\"][-1])+2))\n",
    "    plt.xlabel(\"Atomic mass (u)\")\n",
    "    plt.ylabel(\"Relative abundance (%)\")\n",
    "  \n",
    "plt.figure(figsize=(10,7))\n",
    "plt.subplot(1,2,1)\n",
    "plotIsotopeDistribution(coarse_isotopes,\"Isotope distribution-coarse\")\n",
    "plt.subplot(1,2,2)\n",
    "plotIsotopeDistribution(fine_isotopes,\"Isotope distribution-fine structure\")\n",
    "plt.show()\n"
   ]
  },
  {
   "cell_type": "code",
   "execution_count": 14,
   "id": "055f308b",
   "metadata": {},
   "outputs": [
    {
     "name": "stdout",
     "output_type": "stream",
     "text": [
      "===================================\n",
      "y3 ion sequence: GER\n",
      "y3 mz: 181.09514384957103\n",
      "y3 molecular formula: C13H24N6O6\n"
     ]
    }
   ],
   "source": [
    "#Fragment ions\n",
    "suffix=seq.getSuffix(3)\n",
    "print(\"=\"*35)\n",
    "print(\"y3 ion sequence:\",suffix)\n",
    "y3_formula=suffix.getFormula(Residue.ResidueType.YIon,2)\n",
    "suffix.getMonoWeight(Residue.ResidueType.YIon,2)/2.0\n",
    "suffix.getMonoWeight(Residue.ResidueType.XIon,2)/2.0\n",
    "suffix.getMonoWeight(Residue.ResidueType.BIon,2)/2.0\n",
    "print(\"y3 mz:\",suffix.getMonoWeight(Residue.ResidueType.YIon,2)/2.0)\n",
    "print(\"y3 molecular formula:\",y3_formula)"
   ]
  },
  {
   "cell_type": "code",
   "execution_count": 15,
   "id": "7cfa6ded",
   "metadata": {},
   "outputs": [
    {
     "name": "stdout",
     "output_type": "stream",
     "text": [
      "PEPTIDESEKUEMCER\n",
      "PEPTIDESEKUEM(Oxidation)CER\n",
      "PEPTIDESEKUEM(UniMod:35)CER\n",
      "PEPTIDESEKUEM[147]CER\n",
      "PEPTIDESEKUEM[147.035400017100017]CER\n",
      "DFPIAM(Oxidation)GER\n",
      "DFPIAM(Oxidation)GER\n",
      "DFPIAM(Oxidation)GER\n",
      "DFPIAM(Oxidation)GER\n",
      "DFPIAM(Oxidation)GER\n"
     ]
    }
   ],
   "source": [
    "#Modified Sequences\n",
    "seq=AASequence.fromString(\"PEPTIDESEKUEM(Oxidation)CER\")\n",
    "print(seq.toUnmodifiedString())\n",
    "print(seq.toString())\n",
    "print(seq.toUniModString())\n",
    "print(seq.toBracketString())\n",
    "print(seq.toBracketString(False))\n",
    "print(AASequence.fromString(\"DFPIAM(UniMod:35)GER\"))\n",
    "print(AASequence.fromString(\"DFPIAM[+16]GER\"))\n",
    "print(AASequence.fromString(\"DFPIAM[+15.99]GER\"))\n",
    "print(AASequence.fromString(\"DFPIAM[147]GER\"))\n",
    "print(AASequence.fromString(\"DFPIAM[147.035405]GER\"))"
   ]
  },
  {
   "cell_type": "code",
   "execution_count": 21,
   "id": "0d43c50f",
   "metadata": {},
   "outputs": [
    {
     "name": "stdout",
     "output_type": "stream",
     "text": [
      "2\n",
      "BSA MKWVTFISLLLLFSSAYSRGVFRRDTHKSEIAHRFKDLGE\n",
      "ALB MKWVTFISLLLLFSSAYSRGVFRRDTHKSEIAHRFKDLGE\n"
     ]
    }
   ],
   "source": [
    "#Proteins and FASTA files\n",
    "bsa=FASTAEntry()\n",
    "bsa.sequence=\"MKWVTFISLLLLFSSAYSRGVFRRDTHKSEIAHRFKDLGE\"\n",
    "bsa.description =\"BSA Bovine Albumin (partial sequence)\"\n",
    "bsa.identifier=\"BSA\"\n",
    "alb=FASTAEntry()\n",
    "alb.sequence=\"MKWVTFISLLLLFSSAYSRGVFRRDTHKSEIAHRFKDLGE\"\n",
    "alb.description =\"ALB Human Albumin (partial sequence)\"\n",
    "alb.identifier=\"ALB\"\n",
    "entries=[bsa,alb]\n",
    "f=FASTAFile()\n",
    "f.store(\"example.fasta\",entries)\n",
    "entries=[]\n",
    "f=FASTAFile()\n",
    "f.load(\"example.fasta\",entries)\n",
    "print(len(entries))\n",
    "for e in entries:\n",
    "    print(e.identifier,e.sequence)"
   ]
  },
  {
   "cell_type": "code",
   "execution_count": null,
   "id": "8979f525",
   "metadata": {},
   "outputs": [],
   "source": []
  }
 ],
 "metadata": {
  "kernelspec": {
   "display_name": "Python 3",
   "language": "python",
   "name": "python3"
  },
  "language_info": {
   "codemirror_mode": {
    "name": "ipython",
    "version": 3
   },
   "file_extension": ".py",
   "mimetype": "text/x-python",
   "name": "python",
   "nbconvert_exporter": "python",
   "pygments_lexer": "ipython3",
   "version": "3.8.8"
  }
 },
 "nbformat": 4,
 "nbformat_minor": 5
}
