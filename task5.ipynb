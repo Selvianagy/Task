{
 "cells": [
  {
   "cell_type": "code",
   "execution_count": 1,
   "id": "0657c825",
   "metadata": {},
   "outputs": [
    {
     "name": "stdout",
     "output_type": "stream",
     "text": [
      "[ 376.22406209  376.2250414   376.22602072 ... 1494.914952   1494.92270872\n",
      " 1494.93046549] [0. 0. 0. ... 0. 0. 0.]\n"
     ]
    }
   ],
   "source": [
    "from pyopenms import *\n",
    "exp=MSExperiment()\n",
    "MzMLFile().load(\"E:/year4/computational biology/Fusion_180220_44.mzML\",exp)\n",
    "mz,inti=exp[0].get_peaks()\n",
    "print(mz,inti)"
   ]
  },
  {
   "cell_type": "code",
   "execution_count": 2,
   "id": "b27261c3",
   "metadata": {},
   "outputs": [
    {
     "data": {
      "text/plain": [
       "48022"
      ]
     },
     "execution_count": 2,
     "metadata": {},
     "output_type": "execute_result"
    }
   ],
   "source": [
    "exp.size()"
   ]
  },
  {
   "cell_type": "code",
   "execution_count": 7,
   "id": "510f21f7",
   "metadata": {},
   "outputs": [
    {
     "name": "stdout",
     "output_type": "stream",
     "text": [
      "[ 376.22424471  376.22522403  376.22620335 ... 1494.91563519 1494.92339191\n",
      " 1494.93114869] [0. 0. 0. ... 0. 0. 0.]\n"
     ]
    }
   ],
   "source": [
    "mz,inti=exp[48022-1].get_peaks()\n",
    "print(mz,inti)"
   ]
  },
  {
   "cell_type": "code",
   "execution_count": 19,
   "id": "3c05e7ab",
   "metadata": {},
   "outputs": [
    {
     "name": "stdout",
     "output_type": "stream",
     "text": [
      "MLTSK\n",
      "IYK\n",
      "LLTER\n",
      "DVLDFK\n",
      "LK\n",
      "IFIR\n",
      "R\n",
      "NVFITHLFFLLHSLLLFLSQFCR\n",
      "R\n",
      "EFAFFLPTINLVTHSIK\n",
      "FITLFFFFLNSWASTLSCNPIMAR\n",
      "GCHFPILNRPNFVSQILSK\n",
      "FCR\n",
      "MR\n",
      "NNNDTTFK\n",
      "SF\n"
     ]
    },
    {
     "data": {
      "text/plain": [
       "16"
      ]
     },
     "execution_count": 19,
     "metadata": {},
     "output_type": "execute_result"
    }
   ],
   "source": [
    "from pyopenms import *\n",
    "from urllib.request import urlretrieve\n",
    "dig=ProteaseDigestion()\n",
    "dig.getEnzymeName()\n",
    "bsa=\"\".join([l.strip() for l in open (\"P53979 (YNB3_YEAST).fasta\").readlines()[1:]])\n",
    "bsa=AASequence.fromString(bsa)\n",
    "result=[]\n",
    "dig.digest(bsa,result)\n",
    "for i in result:\n",
    "    print(i.toString())\n",
    "len(result)"
   ]
  },
  {
   "cell_type": "code",
   "execution_count": null,
   "id": "f5a1f9a5",
   "metadata": {},
   "outputs": [],
   "source": []
  },
  {
   "cell_type": "code",
   "execution_count": null,
   "id": "710866c0",
   "metadata": {},
   "outputs": [],
   "source": []
  }
 ],
 "metadata": {
  "kernelspec": {
   "display_name": "Python 3",
   "language": "python",
   "name": "python3"
  },
  "language_info": {
   "codemirror_mode": {
    "name": "ipython",
    "version": 3
   },
   "file_extension": ".py",
   "mimetype": "text/x-python",
   "name": "python",
   "nbconvert_exporter": "python",
   "pygments_lexer": "ipython3",
   "version": "3.8.8"
  }
 },
 "nbformat": 4,
 "nbformat_minor": 5
}
